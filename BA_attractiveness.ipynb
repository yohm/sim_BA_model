{
 "cells": [
  {
   "cell_type": "code",
   "execution_count": 1,
   "metadata": {},
   "outputs": [],
   "source": [
    "import sys,json\n",
    "import powerlaw\n",
    "import matplotlib.pyplot as plt\n",
    "import networkx as nx"
   ]
  },
  {
   "cell_type": "code",
   "execution_count": 2,
   "metadata": {
    "tags": [
     "parameters"
    ]
   },
   "outputs": [],
   "source": [
    "N = 10000\n",
    "m = 5\n",
    "A = 0\n",
    "_seed = 12345"
   ]
  },
  {
   "cell_type": "code",
   "execution_count": 3,
   "metadata": {},
   "outputs": [],
   "source": [
    "def py_random_state(random_state_index):\n",
    "    return nx.utils.py_random_state(random_state_index)\n",
    "\n",
    "def _random_subset(seq, m, rng):\n",
    "    \"\"\" Return m unique elements from seq.\n",
    "    This differs from random.sample which can return repeated\n",
    "    elements if seq holds repeated elements.\n",
    "    Note: rng is a random.Random or numpy.random.RandomState instance.\n",
    "    \"\"\"\n",
    "    targets = set()\n",
    "    while len(targets) < m:\n",
    "        x = rng.choice(seq)\n",
    "        targets.add(x)\n",
    "    return targets\n",
    "\n",
    "@py_random_state(3)\n",
    "def barabasi_albert_attractiveness(n, m, a, seed=None):\n",
    "    if m < 1 or m >= n:\n",
    "        raise nx.NetworkXError(\"Barabasi-Albert network must have m >= 1\"\n",
    "                               \" and m < n, m = %d, n = %d\" % (m, n))\n",
    "\n",
    "    G = nx.empty_graph(m)\n",
    "    # Target nodes for new edges\n",
    "    targets = list(range(m))\n",
    "    # List of existing nodes, with nodes repeated once for each adjacent edge\n",
    "    repeated_nodes = targets * a\n",
    "    # Start adding the other n-m nodes. The first node is m.\n",
    "    source = m\n",
    "    while source < n:\n",
    "        # Add edges to m nodes from the source.\n",
    "        G.add_edges_from(zip([source] * m, targets))\n",
    "        # Add one node to the list for each new edge just created.\n",
    "        repeated_nodes.extend(targets)\n",
    "        # And the new node \"source\" has m edges to add to the list.\n",
    "        repeated_nodes.extend([source] * (m+a))\n",
    "        # Now choose m unique nodes from the existing nodes\n",
    "        # Pick uniformly from repeated_nodes (preferential attachment)\n",
    "        targets = _random_subset(repeated_nodes, m, seed)\n",
    "        source += 1\n",
    "    return G"
   ]
  },
  {
   "cell_type": "code",
   "execution_count": 4,
   "metadata": {},
   "outputs": [],
   "source": [
    "g = barabasi_albert_attractiveness(N, m, A, _seed)"
   ]
  },
  {
   "cell_type": "code",
   "execution_count": 5,
   "metadata": {},
   "outputs": [
    {
     "name": "stderr",
     "output_type": "stream",
     "text": [
      "Calculating best minimal value for power law fit\n",
      "/Users/murase/.local/share/virtualenvs/sim_BA_model-Z_q-zmdG/lib/python3.6/site-packages/powerlaw.py:700: RuntimeWarning: invalid value encountered in true_divide\n",
      "  (Theoretical_CDF * (1 - Theoretical_CDF))\n",
      "/Users/murase/.local/share/virtualenvs/sim_BA_model-Z_q-zmdG/lib/python3.6/site-packages/powerlaw.py:700: RuntimeWarning: divide by zero encountered in true_divide\n",
      "  (Theoretical_CDF * (1 - Theoretical_CDF))\n"
     ]
    },
    {
     "data": {
      "image/png": "[encoded data removed]",
      "text/plain": [
       "<Figure size 432x288 with 1 Axes>"
      ]
     },
     "metadata": {
      "needs_background": "light"
     },
     "output_type": "display_data"
    }
   ],
   "source": [
    "ks = [x[1] for x in g.degree()]\n",
    "results = powerlaw.Fit(ks, discrete=True)\n",
    "\n",
    "figPDF = results.power_law.plot_pdf(label=r\"fit($\\alpha$: %.2f, $x_{min}$: %d)\" % (results.alpha, results.xmin)) \n",
    "figPDF.set_ylabel(\"P(k)\")\n",
    "figPDF.set_xlabel(\"k\")\n",
    "cdf = {z[0]:z[1] for z in zip(*powerlaw.cdf(ks))}\n",
    "cdf_xmin = cdf[results.xmin]\n",
    "\n",
    "bin_edges, prob = powerlaw.pdf(ks)\n",
    "x = [ (bin_edges[i]+bin_edges[i+1])/2.0 for i in range(0, len(bin_edges)-1) ]\n",
    "plt.plot(x, prob/(1.0-cdf_xmin), label=\"data\")\n",
    "plt.legend()\n",
    "\n",
    "plt.savefig('pk.png')"
   ]
  },
  {
   "cell_type": "code",
   "execution_count": 6,
   "metadata": {},
   "outputs": [],
   "source": [
    "with open('_output.json', 'w') as f:\n",
    "    json.dump({\"alpha\": results.power_law.alpha, \"x_min\": results.power_law.xmin}, f)"
   ]
  },
  {
   "cell_type": "code",
   "execution_count": null,
   "metadata": {},
   "outputs": [],
   "source": []
  }
 ],
 "metadata": {
  "celltoolbar": "Tags",
  "kernelspec": {
   "display_name": "Python 3",
   "language": "python",
   "name": "python3"
  },
  "language_info": {
   "codemirror_mode": {
    "name": "ipython",
    "version": 3
   },
   "file_extension": ".py",
   "mimetype": "text/x-python",
   "name": "python",
   "nbconvert_exporter": "python",
   "pygments_lexer": "ipython3",
   "version": "3.6.9"
  }
 },
 "nbformat": 4,
 "nbformat_minor": 4
}
